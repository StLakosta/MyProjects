{
  "nbformat": 4,
  "nbformat_minor": 0,
  "metadata": {
    "colab": {
      "provenance": []
    },
    "kernelspec": {
      "name": "python3",
      "display_name": "Python 3"
    },
    "language_info": {
      "name": "python"
    }
  },
  "cells": [
    {
      "cell_type": "code",
      "execution_count": null,
      "metadata": {
        "id": "ukOezKDnaORi"
      },
      "outputs": [],
      "source": [
        "import cv2\n",
        "import numpy as np\n",
        "from collections import deque\n",
        "import time"
      ]
    },
    {
      "cell_type": "code",
      "source": [
        "from google.colab import drive\n",
        "drive.mount('/content/drive')"
      ],
      "metadata": {
        "colab": {
          "base_uri": "https://localhost:8080/"
        },
        "id": "9e4m2M7DJWj9",
        "outputId": "80bbe00e-b172-45f6-962d-9c4c517caa42"
      },
      "execution_count": null,
      "outputs": [
        {
          "output_type": "stream",
          "name": "stdout",
          "text": [
            "Drive already mounted at /content/drive; to attempt to forcibly remount, call drive.mount(\"/content/drive\", force_remount=True).\n"
          ]
        }
      ]
    },
    {
      "cell_type": "code",
      "source": [
        "def ask_for_tracker():\n",
        "    print(\"Выберите API-интерфейс трекера для использования:\")\n",
        "    print(\"Нажмите 1 для MIL\")\n",
        "    print(\"Нажмите 2 для KCF\")\n",
        "    print(\"Нажмите 3 для CSTR\")\n",
        "\n",
        "    choice = input(\"Введите число от 1 до 3: \")\n",
        "    if choice == '1':\n",
        "        tracker=cv2.TrackerMIL_create()\n",
        "    if choice == '2':\n",
        "        tracker=cv2.TrackerKCF_create()\n",
        "    if choice == '3':\n",
        "        tracker=cv2.TrackerCSRT_create()\n",
        "\n",
        "    return tracker"
      ],
      "metadata": {
        "id": "g_FDc8YHcIXw"
      },
      "execution_count": null,
      "outputs": []
    },
    {
      "cell_type": "code",
      "source": [
        "tracker = ask_for_tracker()"
      ],
      "metadata": {
        "colab": {
          "base_uri": "https://localhost:8080/"
        },
        "id": "76AWf0KLcPFx",
        "outputId": "6af2f773-5260-402c-e173-d67cd3642169"
      },
      "execution_count": null,
      "outputs": [
        {
          "name": "stdout",
          "output_type": "stream",
          "text": [
            "Выберите API-интерфейс трекера для использования:\n",
            "Нажмите 1 для MIL\n",
            "Нажмите 2 для KCF\n",
            "Нажмите 3 для CSTR\n",
            "Введите число от 1 до 3: 3\n"
          ]
        }
      ]
    },
    {
      "cell_type": "code",
      "source": [
        "tracker_name = str(tracker).split()[0][1:]"
      ],
      "metadata": {
        "id": "-xBHQwr0cViB"
      },
      "execution_count": null,
      "outputs": []
    },
    {
      "cell_type": "code",
      "source": [
        "cap = cv2.VideoCapture(\"MyDrive/OpenCV/citytraffic.mp4\")"
      ],
      "metadata": {
        "id": "w564Ci6fcXpA"
      },
      "execution_count": null,
      "outputs": []
    },
    {
      "cell_type": "code",
      "source": [
        "ret , frame = cap.read()"
      ],
      "metadata": {
        "id": "MldSSfc9cZsc"
      },
      "execution_count": null,
      "outputs": []
    },
    {
      "cell_type": "code",
      "source": [
        "import cv2\n",
        "\n",
        "roi = cv2.selectROI(frame,False)\n",
        "\n",
        "ret = tracker.init(frame,roi)\n",
        "\n",
        "pts = deque(maxlen=124)"
      ],
      "metadata": {
        "id": "uZ8jUFTicbnl"
      },
      "execution_count": null,
      "outputs": []
    },
    {
      "cell_type": "code",
      "source": [
        "\n",
        "start_time = time.time()\n",
        "i = 0\n",
        "while True:\n",
        "    if (i==100):\n",
        "        print(\"--- %s seconds ---\" % (time.time() - start_time))\n",
        "\n",
        "    ret, frame = cap.read()\n",
        "\n",
        "    success,roi = tracker.update(frame)\n",
        "\n",
        "    (x,y,w,h) = tuple(map(int,roi))\n",
        "\n",
        "    if success:\n",
        "\n",
        "        pts1 = (x,y)\n",
        "        pts2 = (x+w,y+h)\n",
        "        cv2.rectangle(frame,pts1,pts2,(255,125,25),3)\n",
        "        center=(int(x+w/2),int(y+h/2))\n",
        "        pts.appendleft(center)\n",
        "        for j in range(1,len(pts)):\n",
        "            if pts[j-1] is None or pts[j] is None:\n",
        "                continue\n",
        "            thickness = int(np.sqrt(64 / float(j + 1)) * 2.5)\n",
        "            cv2.line(frame, pts[j - 1], pts[j], (0, 0, 255), thickness)\n",
        "\n",
        "    else:\n",
        "\n",
        "        cv2.putText(frame,\"Fail to track object\",(100,200),cv2.FONT_HERSHEY_SIMPLEX,1,(25,125,255),3)\n",
        "\n",
        "    cv2.putText(frame,tracker_name,(20,400),cv2.FONT_HERSHEY_SIMPLEX,1,(255,255,0),3)\n",
        "\n",
        "    cv2.imshow(tracker_name,frame)\n",
        "\n",
        "    if cv2.waitKey(50)&0xFF==27:\n",
        "        break\n",
        "    i+=1"
      ],
      "metadata": {
        "id": "JJjOAs9YcgOD"
      },
      "execution_count": null,
      "outputs": []
    },
    {
      "cell_type": "code",
      "source": [
        "cap.release()\n",
        "cv2.destroyAllWindows()"
      ],
      "metadata": {
        "id": "szYBUY54cjbd"
      },
      "execution_count": null,
      "outputs": []
    }
  ]
}